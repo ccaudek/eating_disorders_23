{
 "cells": [
  {
   "cell_type": "code",
   "execution_count": 1,
   "metadata": {
    "colab": {
     "base_uri": "https://localhost:8080/"
    },
    "id": "UZTrSFrnz0wf",
    "outputId": "ecb83b08-cc4c-473f-f0fd-6805a96b9b69"
   },
   "outputs": [
    {
     "name": "stdout",
     "output_type": "stream",
     "text": [
      "Current date and time : \n",
      "2023-07-02 11:34:29\n"
     ]
    }
   ],
   "source": [
    "\"\"\"\n",
    "Title: Eating disorders Montecatini \n",
    "Author: Corrado Caudek\n",
    "Description: HDDMrl model comparison for the three-groups data (HC, RI, AN).\n",
    "Version History:\n",
    "- v1.0 (July 2, 2023): Initial version\n",
    "Contact: corrado.caudek@unifi.it\n",
    "\"\"\"\n",
    "\n",
    "# Virtual environment: py37_env\n",
    "\n",
    "import datetime\n",
    "\n",
    "now = datetime.datetime.now()\n",
    "print(\"Current date and time : \")\n",
    "print(now.strftime(\"%Y-%m-%d %H:%M:%S\"))"
   ]
  },
  {
   "cell_type": "markdown",
   "metadata": {},
   "source": [
    "This notebook follows the [tutorial](https://hddm.readthedocs.io/en/latest/demo_RLHDDMtutorial.html#checking-results) on the hddm webpage.\n"
   ]
  },
  {
   "cell_type": "code",
   "execution_count": 2,
   "metadata": {
    "colab": {
     "base_uri": "https://localhost:8080/"
    },
    "id": "8y4ieCRcnTak",
    "outputId": "55a951cf-cdef-4b99-b803-f713a72b978a"
   },
   "outputs": [
    {
     "name": "stderr",
     "output_type": "stream",
     "text": [
      "/Users/corrado/mambaforge/envs/py37_env/lib/python3.7/site-packages/tqdm/auto.py:21: TqdmWarning: IProgress not found. Please update jupyter and ipywidgets. See https://ipywidgets.readthedocs.io/en/stable/user_install.html\n",
      "  from .autonotebook import tqdm as notebook_tqdm\n"
     ]
    },
    {
     "name": "stdout",
     "output_type": "stream",
     "text": [
      "The hddm version is 0.9.8\n"
     ]
    }
   ],
   "source": [
    "%matplotlib inline \n",
    "\n",
    "import os, time, csv, sys\n",
    "import glob\n",
    "\n",
    "import numpy as np\n",
    "import pandas as pd\n",
    "import xarray as xr\n",
    "import matplotlib.pyplot as plt\n",
    "import seaborn as sns\n",
    "\n",
    "import pymc as pm\n",
    "import hddm\n",
    "import kabuki\n",
    "import arviz as az\n",
    "\n",
    "import pymc.progressbar as pbar\n",
    "import pathlib\n",
    "\n",
    "from kabuki.utils import concat_models\n",
    "from kabuki.analyze import check_geweke\n",
    "from kabuki.analyze import gelman_rubin\n",
    "\n",
    "from patsy import dmatrix  # for generation of (regression) design matrices\n",
    "import pickle\n",
    "\n",
    "from tqdm import tqdm\n",
    "\n",
    "import warnings\n",
    "warnings.simplefilter(action='ignore', category=FutureWarning)\n",
    "warnings.filterwarnings(\"ignore\", category=DeprecationWarning)\n",
    "warnings.filterwarnings(\"ignore\", category=np.VisibleDeprecationWarning)\n",
    "\n",
    "# Data management\n",
    "pd.options.display.max_colwidth = 100\n",
    "\n",
    "az.style.use(\"arviz-white\")\n",
    "%config InlineBackend.figure_format='retina'\n",
    "\n",
    "print(\"The hddm version is\", hddm.__version__)"
   ]
  },
  {
   "cell_type": "code",
   "execution_count": 3,
   "metadata": {},
   "outputs": [],
   "source": [
    "# Set display options to show all rows and columns\n",
    "pd.set_option(\"display.max_rows\", None)\n",
    "pd.set_option(\"display.max_columns\", None)\n",
    "\n",
    "# Reset display options to their default values\n",
    "# pd.reset_option('display.max_rows')\n",
    "# pd.reset_option('display.max_columns')"
   ]
  },
  {
   "cell_type": "code",
   "execution_count": 4,
   "metadata": {},
   "outputs": [
    {
     "name": "stdout",
     "output_type": "stream",
     "text": [
      "/Users/corrado/_repositories/eating_disorders_23/src/python/PRL/01_get_hddmrl_params\n"
     ]
    }
   ],
   "source": [
    "!pwd"
   ]
  },
  {
   "cell_type": "code",
   "execution_count": 5,
   "metadata": {
    "id": "AavilMWGnesY"
   },
   "outputs": [],
   "source": [
    "data = hddm.load_csv(\n",
    "    \"/Users/corrado/_repositories/eating_disorders_23/data/processed/prl/input_for_hddmrl/three_groups/ed_prl_data.csv\"\n",
    ")"
   ]
  },
  {
   "cell_type": "code",
   "execution_count": 6,
   "metadata": {},
   "outputs": [
    {
     "name": "stdout",
     "output_type": "stream",
     "text": [
      "There are 112 participants\n"
     ]
    }
   ],
   "source": [
    "print(\"There are %d participants\" % data[\"subj_idx\"].nunique())\n"
   ]
  },
  {
   "cell_type": "code",
   "execution_count": 7,
   "metadata": {},
   "outputs": [
    {
     "data": {
      "text/html": [
       "<div>\n",
       "<style scoped>\n",
       "    .dataframe tbody tr th:only-of-type {\n",
       "        vertical-align: middle;\n",
       "    }\n",
       "\n",
       "    .dataframe tbody tr th {\n",
       "        vertical-align: top;\n",
       "    }\n",
       "\n",
       "    .dataframe thead th {\n",
       "        text-align: right;\n",
       "    }\n",
       "</style>\n",
       "<table border=\"1\" class=\"dataframe\">\n",
       "  <thead>\n",
       "    <tr style=\"text-align: right;\">\n",
       "      <th></th>\n",
       "      <th>subj_idx</th>\n",
       "      <th>response</th>\n",
       "      <th>stim</th>\n",
       "      <th>rt</th>\n",
       "      <th>trial</th>\n",
       "      <th>split_by</th>\n",
       "      <th>feedback</th>\n",
       "      <th>diag_cat</th>\n",
       "      <th>subj_code</th>\n",
       "      <th>q_init</th>\n",
       "    </tr>\n",
       "  </thead>\n",
       "  <tbody>\n",
       "    <tr>\n",
       "      <th>0</th>\n",
       "      <td>1</td>\n",
       "      <td>0</td>\n",
       "      <td>food</td>\n",
       "      <td>0.979</td>\n",
       "      <td>1</td>\n",
       "      <td>0</td>\n",
       "      <td>0</td>\n",
       "      <td>AN</td>\n",
       "      <td>ca_po_2002_05_25_700_f</td>\n",
       "      <td>0.5</td>\n",
       "    </tr>\n",
       "    <tr>\n",
       "      <th>1</th>\n",
       "      <td>1</td>\n",
       "      <td>0</td>\n",
       "      <td>neutral</td>\n",
       "      <td>1.553</td>\n",
       "      <td>1</td>\n",
       "      <td>1</td>\n",
       "      <td>0</td>\n",
       "      <td>AN</td>\n",
       "      <td>ca_po_2002_05_25_700_f</td>\n",
       "      <td>0.5</td>\n",
       "    </tr>\n",
       "    <tr>\n",
       "      <th>2</th>\n",
       "      <td>1</td>\n",
       "      <td>1</td>\n",
       "      <td>food</td>\n",
       "      <td>1.939</td>\n",
       "      <td>2</td>\n",
       "      <td>0</td>\n",
       "      <td>0</td>\n",
       "      <td>AN</td>\n",
       "      <td>ca_po_2002_05_25_700_f</td>\n",
       "      <td>0.5</td>\n",
       "    </tr>\n",
       "    <tr>\n",
       "      <th>3</th>\n",
       "      <td>1</td>\n",
       "      <td>1</td>\n",
       "      <td>neutral</td>\n",
       "      <td>0.350</td>\n",
       "      <td>2</td>\n",
       "      <td>1</td>\n",
       "      <td>1</td>\n",
       "      <td>AN</td>\n",
       "      <td>ca_po_2002_05_25_700_f</td>\n",
       "      <td>0.5</td>\n",
       "    </tr>\n",
       "    <tr>\n",
       "      <th>4</th>\n",
       "      <td>1</td>\n",
       "      <td>0</td>\n",
       "      <td>food</td>\n",
       "      <td>0.768</td>\n",
       "      <td>3</td>\n",
       "      <td>0</td>\n",
       "      <td>0</td>\n",
       "      <td>AN</td>\n",
       "      <td>ca_po_2002_05_25_700_f</td>\n",
       "      <td>0.5</td>\n",
       "    </tr>\n",
       "  </tbody>\n",
       "</table>\n",
       "</div>"
      ],
      "text/plain": [
       "   subj_idx  response     stim     rt  trial  split_by  feedback diag_cat  \\\n",
       "0         1         0     food  0.979      1         0         0       AN   \n",
       "1         1         0  neutral  1.553      1         1         0       AN   \n",
       "2         1         1     food  1.939      2         0         0       AN   \n",
       "3         1         1  neutral  0.350      2         1         1       AN   \n",
       "4         1         0     food  0.768      3         0         0       AN   \n",
       "\n",
       "                subj_code  q_init  \n",
       "0  ca_po_2002_05_25_700_f     0.5  \n",
       "1  ca_po_2002_05_25_700_f     0.5  \n",
       "2  ca_po_2002_05_25_700_f     0.5  \n",
       "3  ca_po_2002_05_25_700_f     0.5  \n",
       "4  ca_po_2002_05_25_700_f     0.5  "
      ]
     },
     "execution_count": 7,
     "metadata": {},
     "output_type": "execute_result"
    }
   ],
   "source": [
    "data.head()"
   ]
  },
  {
   "cell_type": "code",
   "execution_count": 8,
   "metadata": {},
   "outputs": [
    {
     "data": {
      "text/plain": [
       "diag_cat\n",
       "AN    36\n",
       "HC    40\n",
       "RI    36\n",
       "Name: subj_code, dtype: int64"
      ]
     },
     "execution_count": 8,
     "metadata": {},
     "output_type": "execute_result"
    }
   ],
   "source": [
    "data.groupby(\"diag_cat\")[\"subj_code\"].nunique()"
   ]
  },
  {
   "cell_type": "markdown",
   "metadata": {},
   "source": [
    "Check whether all AN patients have performance above 0.5 for at least one of the two conditions (food, neutral)."
   ]
  },
  {
   "cell_type": "code",
   "execution_count": 9,
   "metadata": {},
   "outputs": [
    {
     "name": "stdout",
     "output_type": "stream",
     "text": [
      "diag_cat  stim   \n",
      "AN        food       0.533088\n",
      "          neutral    0.551705\n",
      "HC        food       0.537656\n",
      "          neutral    0.547969\n",
      "RI        food       0.548214\n",
      "          neutral    0.562305\n",
      "Name: feedback, dtype: float64\n"
     ]
    }
   ],
   "source": [
    "# Group the DataFrame and calculate the mean of 'feedback' for each combination of 'subj_code', 'stim', and 'diag_cat'\n",
    "mean_feedback = data.groupby([\"diag_cat\", \"stim\"])[\"feedback\"].mean()\n",
    "print(mean_feedback)"
   ]
  },
  {
   "cell_type": "code",
   "execution_count": 10,
   "metadata": {},
   "outputs": [
    {
     "data": {
      "text/plain": [
       "Index(['subj_idx', 'response', 'stim', 'rt', 'trial', 'split_by', 'feedback',\n",
       "       'diag_cat', 'subj_code', 'q_init'],\n",
       "      dtype='object')"
      ]
     },
     "execution_count": 10,
     "metadata": {},
     "output_type": "execute_result"
    }
   ],
   "source": [
    "data.columns"
   ]
  },
  {
   "cell_type": "code",
   "execution_count": 11,
   "metadata": {},
   "outputs": [
    {
     "name": "stdout",
     "output_type": "stream",
     "text": [
      "                   min    max      mean  median\n",
      "diag_cat stim                                  \n",
      "AN       food     0.15  2.488  0.678686   0.550\n",
      "         neutral  0.15  2.462  0.586113   0.480\n",
      "HC       food     0.15  2.486  0.591276   0.453\n",
      "         neutral  0.15  2.490  0.544739   0.422\n",
      "RI       food     0.15  2.499  0.626885   0.473\n",
      "         neutral  0.15  2.453  0.533328   0.412\n"
     ]
    }
   ],
   "source": [
    "# Calculate the minimum, maximum, and mean values of 'rt' for each combination of 'diag_cat' and 'stim'\n",
    "result = data.groupby([\"diag_cat\", \"stim\"])[\"rt\"].agg([\"min\", \"max\", \"mean\", \"median\"])\n",
    "print(result)"
   ]
  },
  {
   "cell_type": "markdown",
   "metadata": {},
   "source": [
    "## Model 1"
   ]
  },
  {
   "cell_type": "code",
   "execution_count": 12,
   "metadata": {},
   "outputs": [
    {
     "name": "stdout",
     "output_type": "stream",
     "text": [
      "No model attribute --> setting up standard HDDM\n",
      "Set model to ddm\n"
     ]
    },
    {
     "name": "stderr",
     "output_type": "stream",
     "text": [
      "/Users/corrado/mambaforge/envs/py37_env/lib/python3.7/site-packages/scipy/optimize/optimize.py:2215: RuntimeWarning: invalid value encountered in double_scalars\n",
      "  tmp2 = (x - v) * (fx - fw)\n"
     ]
    },
    {
     "name": "stdout",
     "output_type": "stream",
     "text": [
      " [-----------------100%-----------------] 2500 of 2500 complete in 976.5 sec"
     ]
    },
    {
     "data": {
      "text/plain": [
       "<pymc.MCMC.MCMC at 0x7f811af7b090>"
      ]
     },
     "execution_count": 12,
     "metadata": {},
     "output_type": "execute_result"
    }
   ],
   "source": [
    "m1 = hddm.HDDMrl(\n",
    "    data,\n",
    "    # bias=True,\n",
    "    # depends_on={\n",
    "    #     \"a\": [\"diag_cat\", \"stim\"],\n",
    "    #     \"v\": [\"diag_cat\", \"stim\"],\n",
    "    #     \"t\": [\"diag_cat\", \"stim\"],\n",
    "    #     \"alpha\": [\"diag_cat\", \"stim\"],\n",
    "    #     \"pos_alpha\": [\"diag_cat\", \"stim\"],\n",
    "    # },\n",
    "    # dual=True,  # separate learning rates for pos/neg feedbacks\n",
    "    p_outlier=0.05,\n",
    "    informative=True,  # informative priors on ddm params\n",
    "    include=[\"v\", \"a\", \"t\"],\n",
    ")\n",
    "\n",
    "m1.find_starting_values()\n",
    "\n",
    "m1.sample(2500, burn=500, dbname=\"models/ddm1.db\", db=\"pickle\")"
   ]
  },
  {
   "cell_type": "code",
   "execution_count": 13,
   "metadata": {},
   "outputs": [
    {
     "name": "stdout",
     "output_type": "stream",
     "text": [
      "m1 DIC: 39879.443692\n"
     ]
    }
   ],
   "source": [
    "print(\"m1 DIC: %f\" % m1.dic)"
   ]
  },
  {
   "cell_type": "markdown",
   "metadata": {},
   "source": [
    "## Model 2"
   ]
  },
  {
   "cell_type": "code",
   "execution_count": 14,
   "metadata": {},
   "outputs": [
    {
     "name": "stdout",
     "output_type": "stream",
     "text": [
      "No model attribute --> setting up standard HDDM\n",
      "Set model to ddm\n",
      " [-----------------100%-----------------] 2501 of 2500 complete in 1237.7 sec"
     ]
    },
    {
     "data": {
      "text/plain": [
       "<pymc.MCMC.MCMC at 0x7f811d771690>"
      ]
     },
     "execution_count": 14,
     "metadata": {},
     "output_type": "execute_result"
    }
   ],
   "source": [
    "m2 = hddm.HDDMrl(\n",
    "    data,\n",
    "    # bias=True,\n",
    "    # depends_on={\n",
    "    #     \"a\": [\"diag_cat\", \"stim\"],\n",
    "    #     \"v\": [\"diag_cat\", \"stim\"],\n",
    "    #     \"t\": [\"diag_cat\", \"stim\"],\n",
    "    #     \"alpha\": [\"diag_cat\", \"stim\"],\n",
    "    #     \"pos_alpha\": [\"diag_cat\", \"stim\"],\n",
    "    # },\n",
    "    dual=True,  # separate learning rates for pos/neg feedbacks\n",
    "    p_outlier=0.05,\n",
    "    informative=True,  # informative priors on ddm params\n",
    "    include=[\"v\", \"a\", \"t\"],\n",
    ")\n",
    "\n",
    "m2.find_starting_values()\n",
    "\n",
    "m2.sample(2500, burn=500, dbname=\"models/ddm2.db\", db=\"pickle\")"
   ]
  },
  {
   "cell_type": "code",
   "execution_count": 15,
   "metadata": {},
   "outputs": [
    {
     "name": "stdout",
     "output_type": "stream",
     "text": [
      "m2 DIC: 39124.890555\n"
     ]
    }
   ],
   "source": [
    "print(\"m2 DIC: %f\" % m2.dic)"
   ]
  },
  {
   "cell_type": "markdown",
   "metadata": {},
   "source": [
    "## Model 3"
   ]
  },
  {
   "cell_type": "code",
   "execution_count": 16,
   "metadata": {},
   "outputs": [
    {
     "name": "stdout",
     "output_type": "stream",
     "text": [
      "No model attribute --> setting up standard HDDM\n",
      "Set model to ddm\n",
      " [-----------------100%-----------------] 2501 of 2500 complete in 1260.5 sec"
     ]
    },
    {
     "data": {
      "text/plain": [
       "<pymc.MCMC.MCMC at 0x7f811fce2610>"
      ]
     },
     "execution_count": 16,
     "metadata": {},
     "output_type": "execute_result"
    }
   ],
   "source": [
    "m3 = hddm.HDDMrl(\n",
    "    data,\n",
    "    # bias=True,\n",
    "    depends_on={\n",
    "        #     \"a\": [\"diag_cat\", \"stim\"],\n",
    "        #     \"v\": [\"diag_cat\", \"stim\"],\n",
    "        #     \"t\": [\"diag_cat\", \"stim\"],\n",
    "        \"alpha\": [\"diag_cat\"],\n",
    "        \"pos_alpha\": [\"diag_cat\"],\n",
    "    },\n",
    "    dual=True,  # separate learning rates for pos/neg feedbacks\n",
    "    p_outlier=0.05,\n",
    "    informative=True,  # informative priors on ddm params\n",
    "    include=[\"v\", \"a\", \"t\"],\n",
    ")\n",
    "\n",
    "m3.find_starting_values()\n",
    "\n",
    "m3.sample(2500, burn=500, dbname=\"models/ddm3.db\", db=\"pickle\")"
   ]
  },
  {
   "cell_type": "code",
   "execution_count": 17,
   "metadata": {},
   "outputs": [
    {
     "name": "stdout",
     "output_type": "stream",
     "text": [
      "m3 DIC: 39194.762673\n"
     ]
    }
   ],
   "source": [
    "print(\"m3 DIC: %f\" % m3.dic)"
   ]
  },
  {
   "cell_type": "markdown",
   "metadata": {},
   "source": [
    "## Model 4"
   ]
  },
  {
   "cell_type": "code",
   "execution_count": 18,
   "metadata": {},
   "outputs": [
    {
     "name": "stdout",
     "output_type": "stream",
     "text": [
      "No model attribute --> setting up standard HDDM\n",
      "Set model to ddm\n",
      " [-----------------100%-----------------] 2501 of 2500 complete in 1781.9 sec"
     ]
    },
    {
     "data": {
      "text/plain": [
       "<pymc.MCMC.MCMC at 0x7f812205dfd0>"
      ]
     },
     "execution_count": 18,
     "metadata": {},
     "output_type": "execute_result"
    }
   ],
   "source": [
    "m4 = hddm.HDDMrl(\n",
    "    data,\n",
    "    # bias=True,\n",
    "    depends_on={\n",
    "        #     \"a\": [\"diag_cat\", \"stim\"],\n",
    "        #     \"v\": [\"diag_cat\", \"stim\"],\n",
    "        #     \"t\": [\"diag_cat\", \"stim\"],\n",
    "        \"alpha\": [\"diag_cat\", \"stim\"],\n",
    "        \"pos_alpha\": [\"diag_cat\", \"stim\"],\n",
    "    },\n",
    "    dual=True,  # separate learning rates for pos/neg feedbacks\n",
    "    p_outlier=0.05,\n",
    "    informative=True,  # informative priors on ddm params\n",
    "    include=[\"v\", \"a\", \"t\"],\n",
    ")\n",
    "\n",
    "m4.find_starting_values()\n",
    "\n",
    "m4.sample(2500, burn=500, dbname=\"models/ddm4.db\", db=\"pickle\")"
   ]
  },
  {
   "cell_type": "code",
   "execution_count": 19,
   "metadata": {},
   "outputs": [
    {
     "name": "stdout",
     "output_type": "stream",
     "text": [
      "m4 DIC: 38197.466611\n"
     ]
    }
   ],
   "source": [
    "print(\"m4 DIC: %f\" % m4.dic)"
   ]
  },
  {
   "cell_type": "markdown",
   "metadata": {},
   "source": [
    "## Model 5"
   ]
  },
  {
   "cell_type": "code",
   "execution_count": 20,
   "metadata": {},
   "outputs": [
    {
     "name": "stdout",
     "output_type": "stream",
     "text": [
      "No model attribute --> setting up standard HDDM\n",
      "Set model to ddm\n",
      " [-----------------100%-----------------] 2501 of 2500 complete in 1871.0 sec"
     ]
    },
    {
     "data": {
      "text/plain": [
       "<pymc.MCMC.MCMC at 0x7f81256d9290>"
      ]
     },
     "execution_count": 20,
     "metadata": {},
     "output_type": "execute_result"
    }
   ],
   "source": [
    "m5 = hddm.HDDMrl(\n",
    "    data,\n",
    "    # bias=True,\n",
    "    depends_on={\n",
    "        \"a\": [\"diag_cat\", \"stim\"],\n",
    "        #     \"v\": [\"diag_cat\", \"stim\"],\n",
    "        #     \"t\": [\"diag_cat\", \"stim\"],\n",
    "        \"alpha\": [\"diag_cat\", \"stim\"],\n",
    "        \"pos_alpha\": [\"diag_cat\", \"stim\"],\n",
    "    },\n",
    "    dual=True,  # separate learning rates for pos/neg feedbacks\n",
    "    p_outlier=0.05,\n",
    "    informative=True,  # informative priors on ddm params\n",
    "    include=[\"v\", \"a\", \"t\"],\n",
    ")\n",
    "\n",
    "m5.find_starting_values()\n",
    "\n",
    "m5.sample(2500, burn=500, dbname=\"models/ddm5.db\", db=\"pickle\")"
   ]
  },
  {
   "cell_type": "code",
   "execution_count": 21,
   "metadata": {},
   "outputs": [
    {
     "name": "stdout",
     "output_type": "stream",
     "text": [
      "m5 DIC: 36427.447802\n"
     ]
    }
   ],
   "source": [
    "print(\"m5 DIC: %f\" % m5.dic)"
   ]
  },
  {
   "cell_type": "markdown",
   "metadata": {},
   "source": [
    "## Model 6"
   ]
  },
  {
   "cell_type": "code",
   "execution_count": 22,
   "metadata": {},
   "outputs": [
    {
     "name": "stdout",
     "output_type": "stream",
     "text": [
      "No model attribute --> setting up standard HDDM\n",
      "Set model to ddm\n",
      " [-----------------100%-----------------] 2501 of 2500 complete in 1866.8 sec"
     ]
    },
    {
     "data": {
      "text/plain": [
       "<pymc.MCMC.MCMC at 0x7f810a184b50>"
      ]
     },
     "execution_count": 22,
     "metadata": {},
     "output_type": "execute_result"
    }
   ],
   "source": [
    "m6 = hddm.HDDMrl(\n",
    "    data,\n",
    "    # bias=True,\n",
    "    depends_on={\n",
    "        \"a\": [\"diag_cat\", \"stim\"],\n",
    "        \"v\": [\"diag_cat\", \"stim\"],\n",
    "        #     \"t\": [\"diag_cat\", \"stim\"],\n",
    "        \"alpha\": [\"diag_cat\", \"stim\"],\n",
    "        \"pos_alpha\": [\"diag_cat\", \"stim\"],\n",
    "    },\n",
    "    dual=True,  # separate learning rates for pos/neg feedbacks\n",
    "    p_outlier=0.05,\n",
    "    informative=True,  # informative priors on ddm params\n",
    "    include=[\"v\", \"a\", \"t\"],\n",
    ")\n",
    "\n",
    "m6.find_starting_values()\n",
    "\n",
    "m6.sample(2500, burn=500, dbname=\"models/ddm6.db\", db=\"pickle\")"
   ]
  },
  {
   "cell_type": "code",
   "execution_count": 23,
   "metadata": {},
   "outputs": [
    {
     "name": "stdout",
     "output_type": "stream",
     "text": [
      "m6 DIC: 36185.146421\n"
     ]
    }
   ],
   "source": [
    "print(\"m6 DIC: %f\" % m6.dic)"
   ]
  },
  {
   "cell_type": "markdown",
   "metadata": {},
   "source": [
    "## Model 7"
   ]
  },
  {
   "cell_type": "code",
   "execution_count": 24,
   "metadata": {},
   "outputs": [
    {
     "name": "stdout",
     "output_type": "stream",
     "text": [
      "No model attribute --> setting up standard HDDM\n",
      "Set model to ddm\n",
      " [-----------------100%-----------------] 2501 of 2500 complete in 1779.3 sec"
     ]
    },
    {
     "data": {
      "text/plain": [
       "<pymc.MCMC.MCMC at 0x7f810ce06e90>"
      ]
     },
     "execution_count": 24,
     "metadata": {},
     "output_type": "execute_result"
    }
   ],
   "source": [
    "m7 = hddm.HDDMrl(\n",
    "    data,\n",
    "    # bias=True,\n",
    "    depends_on={\n",
    "        \"a\": [\"diag_cat\", \"stim\"],\n",
    "        \"v\": [\"diag_cat\", \"stim\"],\n",
    "        \"t\": [\"diag_cat\", \"stim\"],\n",
    "        \"alpha\": [\"diag_cat\", \"stim\"],\n",
    "        \"pos_alpha\": [\"diag_cat\", \"stim\"],\n",
    "    },\n",
    "    dual=True,  # separate learning rates for pos/neg feedbacks\n",
    "    p_outlier=0.05,\n",
    "    informative=True,  # informative priors on ddm params\n",
    "    include=[\"v\", \"a\", \"t\"],\n",
    ")\n",
    "\n",
    "m7.find_starting_values()\n",
    "\n",
    "m7.sample(2500, burn=500, dbname=\"models/ddm7.db\", db=\"pickle\")"
   ]
  },
  {
   "cell_type": "code",
   "execution_count": 25,
   "metadata": {},
   "outputs": [
    {
     "name": "stdout",
     "output_type": "stream",
     "text": [
      "m7 DIC: 34904.053478\n"
     ]
    }
   ],
   "source": [
    "print(\"m7 DIC: %f\" % m7.dic)"
   ]
  },
  {
   "cell_type": "markdown",
   "metadata": {},
   "source": [
    "## Model 8"
   ]
  },
  {
   "cell_type": "code",
   "execution_count": 26,
   "metadata": {},
   "outputs": [
    {
     "name": "stdout",
     "output_type": "stream",
     "text": [
      "No model attribute --> setting up standard HDDM\n",
      "Set model to ddm\n",
      " [-----------------100%-----------------] 2501 of 2500 complete in 2116.0 sec"
     ]
    },
    {
     "data": {
      "text/plain": [
       "<pymc.MCMC.MCMC at 0x7f810af8bb90>"
      ]
     },
     "execution_count": 26,
     "metadata": {},
     "output_type": "execute_result"
    }
   ],
   "source": [
    "m8 = hddm.HDDMrl(\n",
    "    data,\n",
    "    bias=True,\n",
    "    depends_on={\n",
    "        \"a\": [\"diag_cat\", \"stim\"],\n",
    "        \"v\": [\"diag_cat\", \"stim\"],\n",
    "        \"t\": [\"diag_cat\", \"stim\"],\n",
    "        \"alpha\": [\"diag_cat\", \"stim\"],\n",
    "        \"pos_alpha\": [\"diag_cat\", \"stim\"],\n",
    "    },\n",
    "    dual=True,  # separate learning rates for pos/neg feedbacks\n",
    "    p_outlier=0.05,\n",
    "    informative=True,  # informative priors on ddm params\n",
    "    include=[\"v\", \"a\", \"t\"],\n",
    ")\n",
    "\n",
    "m8.find_starting_values()\n",
    "\n",
    "m8.sample(2500, burn=500, dbname=\"models/ddm8.db\", db=\"pickle\")"
   ]
  },
  {
   "cell_type": "code",
   "execution_count": 27,
   "metadata": {},
   "outputs": [
    {
     "name": "stdout",
     "output_type": "stream",
     "text": [
      "m8 DIC: 34917.762481\n"
     ]
    }
   ],
   "source": [
    "print(\"m8 DIC: %f\" % m8.dic)"
   ]
  }
 ],
 "metadata": {
  "colab": {
   "collapsed_sections": [],
   "name": "hddm_food_neutral.ipynb",
   "provenance": []
  },
  "kernelspec": {
   "display_name": "hddm_env",
   "language": "python",
   "name": "python3"
  },
  "language_info": {
   "codemirror_mode": {
    "name": "ipython",
    "version": 3
   },
   "file_extension": ".py",
   "mimetype": "text/x-python",
   "name": "python",
   "nbconvert_exporter": "python",
   "pygments_lexer": "ipython3",
   "version": "3.7.16"
  },
  "vscode": {
   "interpreter": {
    "hash": "a017ab2123bc73d78437770a9ac1e3026a450085e39c9a793edee731ea75aa98"
   }
  }
 },
 "nbformat": 4,
 "nbformat_minor": 0
}
