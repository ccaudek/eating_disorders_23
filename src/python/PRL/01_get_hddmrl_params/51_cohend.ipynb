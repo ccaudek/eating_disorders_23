{
 "cells": [
  {
   "cell_type": "code",
   "execution_count": 42,
   "metadata": {},
   "outputs": [
    {
     "name": "stdout",
     "output_type": "stream",
     "text": [
      "Current date and time : \n",
      "2023-07-07 06:41:49\n"
     ]
    }
   ],
   "source": [
    "\"\"\"\n",
    "Title: Eating disorders Montecatini \n",
    "Author: Corrado Caudek\n",
    "Description: This notebook computes the effect size (Cohen's d) for \n",
    "    all within-group and between groups comparisons. The DV are the \n",
    "    hDDMrl parameters estimated for each participant.\n",
    "Data Source: '/Users/corrado/_repositories/eating_disorders_23/data/processed/prl/subj_hddm_params/subj_code_hddm_params.csv'\n",
    "Version History:\n",
    "- v1.0 (July 6, 2023): Initial version\n",
    "- v1.1 (July 7, 2023): Updated computation Cohen's d\n",
    "Contact: corrado.caudek@unifi.it\n",
    "\"\"\"\n",
    "\n",
    "# Virtual environment: py37_env\n",
    "\n",
    "import datetime\n",
    "\n",
    "now = datetime.datetime.now()\n",
    "print(\"Current date and time : \")\n",
    "print(now.strftime(\"%Y-%m-%d %H:%M:%S\"))"
   ]
  },
  {
   "cell_type": "code",
   "execution_count": 43,
   "metadata": {},
   "outputs": [],
   "source": [
    "import os, time, csv, sys\n",
    "\n",
    "import numpy as np\n",
    "import pandas as pd\n",
    "from scipy import stats\n",
    "\n",
    "# Data management\n",
    "pd.options.display.max_colwidth = 100\n"
   ]
  },
  {
   "cell_type": "code",
   "execution_count": 44,
   "metadata": {},
   "outputs": [
    {
     "data": {
      "text/html": [
       "<div>\n",
       "<style scoped>\n",
       "    .dataframe tbody tr th:only-of-type {\n",
       "        vertical-align: middle;\n",
       "    }\n",
       "\n",
       "    .dataframe tbody tr th {\n",
       "        vertical-align: top;\n",
       "    }\n",
       "\n",
       "    .dataframe thead th {\n",
       "        text-align: right;\n",
       "    }\n",
       "</style>\n",
       "<table border=\"1\" class=\"dataframe\">\n",
       "  <thead>\n",
       "    <tr style=\"text-align: right;\">\n",
       "      <th></th>\n",
       "      <th>params</th>\n",
       "      <th>val</th>\n",
       "      <th>subj_idx</th>\n",
       "      <th>par</th>\n",
       "      <th>diag_cat</th>\n",
       "      <th>stim</th>\n",
       "      <th>subj_code</th>\n",
       "    </tr>\n",
       "  </thead>\n",
       "  <tbody>\n",
       "    <tr>\n",
       "      <th>0</th>\n",
       "      <td>a_subj(AN.food).1</td>\n",
       "      <td>1.270092</td>\n",
       "      <td>1</td>\n",
       "      <td>a</td>\n",
       "      <td>AN</td>\n",
       "      <td>food</td>\n",
       "      <td>ca_po_2002_05_25_700_f</td>\n",
       "    </tr>\n",
       "    <tr>\n",
       "      <th>1</th>\n",
       "      <td>a_subj(AN.neutral).1</td>\n",
       "      <td>1.131988</td>\n",
       "      <td>1</td>\n",
       "      <td>a</td>\n",
       "      <td>AN</td>\n",
       "      <td>neutral</td>\n",
       "      <td>ca_po_2002_05_25_700_f</td>\n",
       "    </tr>\n",
       "    <tr>\n",
       "      <th>2</th>\n",
       "      <td>v_subj(AN.food).1</td>\n",
       "      <td>0.799608</td>\n",
       "      <td>1</td>\n",
       "      <td>v</td>\n",
       "      <td>AN</td>\n",
       "      <td>food</td>\n",
       "      <td>ca_po_2002_05_25_700_f</td>\n",
       "    </tr>\n",
       "    <tr>\n",
       "      <th>3</th>\n",
       "      <td>v_subj(AN.neutral).1</td>\n",
       "      <td>0.900103</td>\n",
       "      <td>1</td>\n",
       "      <td>v</td>\n",
       "      <td>AN</td>\n",
       "      <td>neutral</td>\n",
       "      <td>ca_po_2002_05_25_700_f</td>\n",
       "    </tr>\n",
       "    <tr>\n",
       "      <th>4</th>\n",
       "      <td>t_subj(AN.food).1</td>\n",
       "      <td>0.088883</td>\n",
       "      <td>1</td>\n",
       "      <td>t</td>\n",
       "      <td>AN</td>\n",
       "      <td>food</td>\n",
       "      <td>ca_po_2002_05_25_700_f</td>\n",
       "    </tr>\n",
       "  </tbody>\n",
       "</table>\n",
       "</div>"
      ],
      "text/plain": [
       "                 params       val  subj_idx par diag_cat     stim  \\\n",
       "0     a_subj(AN.food).1  1.270092         1   a       AN     food   \n",
       "1  a_subj(AN.neutral).1  1.131988         1   a       AN  neutral   \n",
       "2     v_subj(AN.food).1  0.799608         1   v       AN     food   \n",
       "3  v_subj(AN.neutral).1  0.900103         1   v       AN  neutral   \n",
       "4     t_subj(AN.food).1  0.088883         1   t       AN     food   \n",
       "\n",
       "                subj_code  \n",
       "0  ca_po_2002_05_25_700_f  \n",
       "1  ca_po_2002_05_25_700_f  \n",
       "2  ca_po_2002_05_25_700_f  \n",
       "3  ca_po_2002_05_25_700_f  \n",
       "4  ca_po_2002_05_25_700_f  "
      ]
     },
     "execution_count": 44,
     "metadata": {},
     "output_type": "execute_result"
    }
   ],
   "source": [
    "working_directory = \"/Users/corrado/_repositories/eating_disorders_23/\"\n",
    "\n",
    "file_path = os.path.join(\n",
    "    working_directory,\n",
    "    \"data\",\n",
    "    \"processed\",\n",
    "    \"prl\",\n",
    "    \"subj_hddm_params\",\n",
    "    \"subj_code_hddm_params.csv\",\n",
    ")\n",
    "\n",
    "df = pd.read_csv(file_path)\n",
    "df.head()"
   ]
  },
  {
   "cell_type": "code",
   "execution_count": 45,
   "metadata": {},
   "outputs": [
    {
     "data": {
      "text/plain": [
       "'/Users/corrado/_repositories/eating_disorders_23/data/processed/prl/subj_hddm_params/subj_code_hddm_params.csv'"
      ]
     },
     "execution_count": 45,
     "metadata": {},
     "output_type": "execute_result"
    }
   ],
   "source": [
    "file_path"
   ]
  },
  {
   "cell_type": "markdown",
   "metadata": {},
   "source": [
    "## Cohen's d"
   ]
  },
  {
   "cell_type": "code",
   "execution_count": 46,
   "metadata": {},
   "outputs": [
    {
     "name": "stdout",
     "output_type": "stream",
     "text": [
      "          par diag_cat     stim    val\n",
      "0           a       AN     food  1.447\n",
      "1           a       AN  neutral  1.271\n",
      "2           a       HC     food  1.311\n",
      "3           a       HC  neutral  1.214\n",
      "4           a       RI     food  1.334\n",
      "5           a       RI  neutral  1.239\n",
      "6       alpha       AN     food  0.761\n",
      "7       alpha       AN  neutral  1.903\n",
      "8       alpha       HC     food  3.581\n",
      "9       alpha       HC  neutral  2.886\n",
      "10      alpha       RI     food  3.045\n",
      "11      alpha       RI  neutral  3.008\n",
      "12  pos_alpha       AN     food -1.838\n",
      "13  pos_alpha       AN  neutral  1.041\n",
      "14  pos_alpha       HC     food  1.352\n",
      "15  pos_alpha       HC  neutral  1.217\n",
      "16  pos_alpha       RI     food  0.762\n",
      "17  pos_alpha       RI  neutral  1.622\n",
      "18          t       AN     food  0.180\n",
      "19          t       AN  neutral  0.205\n",
      "20          t       HC     food  0.162\n",
      "21          t       HC  neutral  0.177\n",
      "22          t       RI     food  0.188\n",
      "23          t       RI  neutral  0.176\n",
      "24          v       AN     food  1.777\n",
      "25          v       AN  neutral  1.397\n",
      "26          v       HC     food  1.788\n",
      "27          v       HC  neutral  2.156\n",
      "28          v       RI     food  1.846\n",
      "29          v       RI  neutral  2.196\n"
     ]
    }
   ],
   "source": [
    "mean_df = df.groupby([\"par\", \"diag_cat\", \"stim\"])[\"val\"].mean().reset_index()\n",
    "print(mean_df.round(3))"
   ]
  },
  {
   "cell_type": "code",
   "execution_count": 47,
   "metadata": {},
   "outputs": [
    {
     "name": "stdout",
     "output_type": "stream",
     "text": [
      "          par diag_cat     stim    val\n",
      "0           a       AN     food  0.233\n",
      "1           a       AN  neutral  0.205\n",
      "2           a       HC     food  0.208\n",
      "3           a       HC  neutral  0.201\n",
      "4           a       RI     food  0.265\n",
      "5           a       RI  neutral  0.198\n",
      "6       alpha       AN     food  2.852\n",
      "7       alpha       AN  neutral  2.403\n",
      "8       alpha       HC     food  2.128\n",
      "9       alpha       HC  neutral  2.525\n",
      "10      alpha       RI     food  2.520\n",
      "11      alpha       RI  neutral  2.277\n",
      "12  pos_alpha       AN     food  2.423\n",
      "13  pos_alpha       AN  neutral  2.352\n",
      "14  pos_alpha       HC     food  1.881\n",
      "15  pos_alpha       HC  neutral  1.929\n",
      "16  pos_alpha       RI     food  1.848\n",
      "17  pos_alpha       RI  neutral  2.081\n",
      "18          t       AN     food  0.081\n",
      "19          t       AN  neutral  0.115\n",
      "20          t       HC     food  0.052\n",
      "21          t       HC  neutral  0.058\n",
      "22          t       RI     food  0.088\n",
      "23          t       RI  neutral  0.046\n",
      "24          v       AN     food  2.104\n",
      "25          v       AN  neutral  1.903\n",
      "26          v       HC     food  1.035\n",
      "27          v       HC  neutral  1.019\n",
      "28          v       RI     food  0.889\n",
      "29          v       RI  neutral  0.950\n"
     ]
    }
   ],
   "source": [
    "mean_df = df.groupby([\"par\", \"diag_cat\", \"stim\"])[\"val\"].std().reset_index()\n",
    "print(mean_df.round(3))"
   ]
  },
  {
   "cell_type": "code",
   "execution_count": 48,
   "metadata": {},
   "outputs": [],
   "source": [
    "def cohend(d1, d2):\n",
    "    # calculate the size of samples\n",
    "    n1, n2 = len(d1), len(d2)\n",
    "    # calculate the variance of the samples\n",
    "    s1, s2 = np.var(d1, ddof=1), np.var(d2, ddof=1)\n",
    "    # calculate the pooled standard deviation\n",
    "    s = np.sqrt(((n1 - 1) * s1 + (n2 - 1) * s2) / (n1 + n2 - 2))\n",
    "    # calculate the means of the samples\n",
    "    u1, u2 = np.mean(d1), np.mean(d2)\n",
    "    # calculate the effect size\n",
    "    return (u1 - u2) / s"
   ]
  },
  {
   "cell_type": "markdown",
   "metadata": {},
   "source": [
    "### Stimulus effects"
   ]
  },
  {
   "cell_type": "code",
   "execution_count": 49,
   "metadata": {},
   "outputs": [
    {
     "name": "stdout",
     "output_type": "stream",
     "text": [
      "   diag_cat        par  cohens_d\n",
      "0        AN          a     0.802\n",
      "1        AN          v     0.190\n",
      "2        AN          t    -0.253\n",
      "3        AN      alpha    -0.432\n",
      "4        AN  pos_alpha    -1.206\n",
      "5        HC          a     0.474\n",
      "6        HC          v    -0.358\n",
      "7        HC          t    -0.280\n",
      "8        HC      alpha     0.298\n",
      "9        HC  pos_alpha     0.071\n",
      "10       RI          a     0.403\n",
      "11       RI          v    -0.381\n",
      "12       RI          t     0.166\n",
      "13       RI      alpha     0.015\n",
      "14       RI  pos_alpha    -0.438\n"
     ]
    }
   ],
   "source": [
    "def compute_cohens_d(df, stim_col, diag_cat_col, par_col, val_col):\n",
    "    results = pd.DataFrame(columns=[\"diag_cat\", \"par\", \"cohens_d\"])\n",
    "\n",
    "    # Iterate over unique levels of diag_cat\n",
    "    diag_cat_levels = df[diag_cat_col].unique()\n",
    "    for diag_cat_level in diag_cat_levels:\n",
    "        # Filter the DataFrame for the current diag_cat level\n",
    "        diag_cat_df = df[df[diag_cat_col] == diag_cat_level]\n",
    "\n",
    "        # Iterate over unique levels of par\n",
    "        par_levels = diag_cat_df[par_col].unique()\n",
    "        for par_level in par_levels:\n",
    "            # Filter the DataFrame for the current par level\n",
    "            par_df = diag_cat_df[diag_cat_df[par_col] == par_level]\n",
    "\n",
    "            # Filter the DataFrame for the two stim levels\n",
    "            stim1_df = par_df[par_df[stim_col] == \"food\"]\n",
    "            stim2_df = par_df[par_df[stim_col] == \"neutral\"]\n",
    "\n",
    "            # Calculate Cohen's d using the cohend function\n",
    "            cohens_d = cohend(stim1_df[val_col].values, stim2_df[val_col].values)\n",
    "\n",
    "            # Append the results to the DataFrame\n",
    "            results = results.append(\n",
    "                {\"diag_cat\": diag_cat_level, \"par\": par_level, \"cohens_d\": cohens_d},\n",
    "                ignore_index=True,\n",
    "            )\n",
    "\n",
    "    return results\n",
    "\n",
    "\n",
    "result_df = compute_cohens_d(df, \"stim\", \"diag_cat\", \"par\", \"val\")\n",
    "print(result_df.round(3))"
   ]
  },
  {
   "cell_type": "markdown",
   "metadata": {},
   "source": [
    "### Comparisons between the AN and HC groups"
   ]
  },
  {
   "cell_type": "code",
   "execution_count": 50,
   "metadata": {},
   "outputs": [
    {
     "name": "stdout",
     "output_type": "stream",
     "text": [
      "      stim        par  cohens_d\n",
      "0     food          a    -0.622\n",
      "1     food          v     0.007\n",
      "2     food          t    -0.278\n",
      "3     food      alpha     1.144\n",
      "4     food  pos_alpha     1.498\n",
      "5  neutral          a    -0.279\n",
      "6  neutral          v     0.520\n",
      "7  neutral          t    -0.325\n",
      "8  neutral      alpha     0.397\n",
      "9  neutral  pos_alpha     0.083\n"
     ]
    }
   ],
   "source": [
    "def compute_cohens_d(df, stim_col, par_col, val_col):\n",
    "    results = pd.DataFrame(columns=[\"stim\", \"par\", \"cohens_d\"])\n",
    "\n",
    "    # Filter the DataFrame for levels 'HC' and 'AN' of diag_cat\n",
    "    filtered_df = df[df[\"diag_cat\"].isin([\"HC\", \"AN\"])]\n",
    "\n",
    "    # Iterate over unique levels of stim\n",
    "    stim_levels = filtered_df[stim_col].unique()\n",
    "    for stim_level in stim_levels:\n",
    "        # Filter the DataFrame for the current stim level\n",
    "        stim_df = filtered_df[filtered_df[stim_col] == stim_level]\n",
    "\n",
    "        # Iterate over unique levels of par\n",
    "        par_levels = stim_df[par_col].unique()\n",
    "        for par_level in par_levels:\n",
    "            # Filter the DataFrame for the current par level\n",
    "            par_df = stim_df[stim_df[par_col] == par_level]\n",
    "\n",
    "            # Get the data for 'HC' and 'AN' levels\n",
    "            hc_data = par_df[par_df[\"diag_cat\"] == \"HC\"][val_col].values\n",
    "            an_data = par_df[par_df[\"diag_cat\"] == \"AN\"][val_col].values\n",
    "\n",
    "            # Calculate Cohen's d using the cohend function\n",
    "            cohens_d = cohend(hc_data, an_data)\n",
    "\n",
    "            # Append the results to the DataFrame\n",
    "            results = results.append(\n",
    "                {\"stim\": stim_level, \"par\": par_level, \"cohens_d\": cohens_d},\n",
    "                ignore_index=True,\n",
    "            )\n",
    "\n",
    "    return results\n",
    "\n",
    "\n",
    "result_df = compute_cohens_d(df, \"stim\", \"par\", \"val\")\n",
    "print(result_df.round(3))"
   ]
  },
  {
   "cell_type": "markdown",
   "metadata": {},
   "source": [
    "### Comparisons between the AN and RI groups"
   ]
  },
  {
   "cell_type": "code",
   "execution_count": 51,
   "metadata": {},
   "outputs": [
    {
     "name": "stdout",
     "output_type": "stream",
     "text": [
      "      stim        par  cohens_d\n",
      "0     food          a    -0.454\n",
      "1     food          v     0.043\n",
      "2     food          t     0.091\n",
      "3     food      alpha     0.849\n",
      "4     food  pos_alpha     1.209\n",
      "5  neutral          a    -0.158\n",
      "6  neutral          v     0.529\n",
      "7  neutral          t    -0.332\n",
      "8  neutral      alpha     0.472\n",
      "9  neutral  pos_alpha     0.261\n"
     ]
    }
   ],
   "source": [
    "def compute_cohens_d(df, stim_col, par_col, val_col):\n",
    "    results = pd.DataFrame(columns=[\"stim\", \"par\", \"cohens_d\"])\n",
    "\n",
    "    # Filter the DataFrame for levels 'HC' and 'AN' of diag_cat\n",
    "    filtered_df = df[df[\"diag_cat\"].isin([\"RI\", \"AN\"])]\n",
    "\n",
    "    # Iterate over unique levels of stim\n",
    "    stim_levels = filtered_df[stim_col].unique()\n",
    "    for stim_level in stim_levels:\n",
    "        # Filter the DataFrame for the current stim level\n",
    "        stim_df = filtered_df[filtered_df[stim_col] == stim_level]\n",
    "\n",
    "        # Iterate over unique levels of par\n",
    "        par_levels = stim_df[par_col].unique()\n",
    "        for par_level in par_levels:\n",
    "            # Filter the DataFrame for the current par level\n",
    "            par_df = stim_df[stim_df[par_col] == par_level]\n",
    "\n",
    "            # Get the data for 'HC' and 'AN' levels\n",
    "            hc_data = par_df[par_df[\"diag_cat\"] == \"RI\"][val_col].values\n",
    "            an_data = par_df[par_df[\"diag_cat\"] == \"AN\"][val_col].values\n",
    "\n",
    "            # Calculate Cohen's d using the cohend function\n",
    "            cohens_d = cohend(hc_data, an_data)\n",
    "\n",
    "            # Append the results to the DataFrame\n",
    "            results = results.append(\n",
    "                {\"stim\": stim_level, \"par\": par_level, \"cohens_d\": cohens_d},\n",
    "                ignore_index=True,\n",
    "            )\n",
    "\n",
    "    return results\n",
    "\n",
    "\n",
    "result_df = compute_cohens_d(df, \"stim\", \"par\", \"val\")\n",
    "print(result_df.round(3))"
   ]
  },
  {
   "cell_type": "markdown",
   "metadata": {},
   "source": [
    "### Comparisons between the HC and RI groups"
   ]
  },
  {
   "cell_type": "code",
   "execution_count": 52,
   "metadata": {},
   "outputs": [
    {
     "name": "stdout",
     "output_type": "stream",
     "text": [
      "      stim        par  cohens_d\n",
      "0     food          a     0.097\n",
      "1     food          v     0.059\n",
      "2     food          t     0.371\n",
      "3     food      alpha    -0.232\n",
      "4     food  pos_alpha    -0.316\n",
      "5  neutral          a     0.124\n",
      "6  neutral          v     0.041\n",
      "7  neutral          t    -0.021\n",
      "8  neutral      alpha     0.050\n",
      "9  neutral  pos_alpha     0.203\n"
     ]
    }
   ],
   "source": [
    "def compute_cohens_d(df, stim_col, par_col, val_col):\n",
    "    results = pd.DataFrame(columns=[\"stim\", \"par\", \"cohens_d\"])\n",
    "\n",
    "    # Filter the DataFrame for levels 'HC' and 'AN' of diag_cat\n",
    "    filtered_df = df[df[\"diag_cat\"].isin([\"RI\", \"HC\"])]\n",
    "\n",
    "    # Iterate over unique levels of stim\n",
    "    stim_levels = filtered_df[stim_col].unique()\n",
    "    for stim_level in stim_levels:\n",
    "        # Filter the DataFrame for the current stim level\n",
    "        stim_df = filtered_df[filtered_df[stim_col] == stim_level]\n",
    "\n",
    "        # Iterate over unique levels of par\n",
    "        par_levels = stim_df[par_col].unique()\n",
    "        for par_level in par_levels:\n",
    "            # Filter the DataFrame for the current par level\n",
    "            par_df = stim_df[stim_df[par_col] == par_level]\n",
    "\n",
    "            # Get the data for 'HC' and 'AN' levels\n",
    "            hc_data = par_df[par_df[\"diag_cat\"] == \"RI\"][val_col].values\n",
    "            an_data = par_df[par_df[\"diag_cat\"] == \"HC\"][val_col].values\n",
    "\n",
    "            # Calculate Cohen's d using the cohend function\n",
    "            cohens_d = cohend(hc_data, an_data)\n",
    "\n",
    "            # Append the results to the DataFrame\n",
    "            results = results.append(\n",
    "                {\"stim\": stim_level, \"par\": par_level, \"cohens_d\": cohens_d},\n",
    "                ignore_index=True,\n",
    "            )\n",
    "\n",
    "    return results\n",
    "\n",
    "\n",
    "result_df = compute_cohens_d(df, \"stim\", \"par\", \"val\")\n",
    "print(result_df.round(3))"
   ]
  }
 ],
 "metadata": {
  "kernelspec": {
   "display_name": "pymc_env",
   "language": "python",
   "name": "python3"
  },
  "language_info": {
   "codemirror_mode": {
    "name": "ipython",
    "version": 3
   },
   "file_extension": ".py",
   "mimetype": "text/x-python",
   "name": "python",
   "nbconvert_exporter": "python",
   "pygments_lexer": "ipython3",
   "version": "3.7.16"
  },
  "orig_nbformat": 4
 },
 "nbformat": 4,
 "nbformat_minor": 2
}
