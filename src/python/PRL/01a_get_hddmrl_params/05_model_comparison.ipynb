{
 "cells": [
  {
   "cell_type": "code",
   "execution_count": 12,
   "metadata": {
    "colab": {
     "base_uri": "https://localhost:8080/"
    },
    "id": "UZTrSFrnz0wf",
    "outputId": "ecb83b08-cc4c-473f-f0fd-6805a96b9b69"
   },
   "outputs": [
    {
     "name": "stdout",
     "output_type": "stream",
     "text": [
      "Current date and time : \n",
      "2023-07-01 15:48:38\n"
     ]
    }
   ],
   "source": [
    "\"\"\"\n",
    "\n",
    "EATING DISORDERS MONTECATINI\n",
    "\n",
    "Purpose: HDDMrl models' comparison for the three-groups (HC, RI, AN) data.\n",
    "\n",
    "Written by Corrado Caudek (2023-06-30)\n",
    "\n",
    "\"\"\"\n",
    "\n",
    "import datetime\n",
    "\n",
    "now = datetime.datetime.now()\n",
    "print(\"Current date and time : \")\n",
    "print(now.strftime(\"%Y-%m-%d %H:%M:%S\"))\n"
   ]
  },
  {
   "cell_type": "markdown",
   "metadata": {},
   "source": [
    "This notebook follows the [tutorial](https://hddm.readthedocs.io/en/latest/demo_RLHDDMtutorial.html#checking-results) on the hddm webpage.\n"
   ]
  },
  {
   "cell_type": "code",
   "execution_count": 13,
   "metadata": {
    "colab": {
     "base_uri": "https://localhost:8080/"
    },
    "id": "8y4ieCRcnTak",
    "outputId": "55a951cf-cdef-4b99-b803-f713a72b978a"
   },
   "outputs": [
    {
     "name": "stdout",
     "output_type": "stream",
     "text": [
      "The hddm version is 0.9.8\n"
     ]
    }
   ],
   "source": [
    "%matplotlib inline \n",
    "\n",
    "import os, time, csv, sys\n",
    "import glob\n",
    "\n",
    "import numpy as np\n",
    "import pandas as pd\n",
    "import xarray as xr\n",
    "import matplotlib.pyplot as plt\n",
    "import seaborn as sns\n",
    "\n",
    "import pymc as pm\n",
    "import hddm\n",
    "import kabuki\n",
    "import arviz as az\n",
    "\n",
    "import pymc.progressbar as pbar\n",
    "import pathlib\n",
    "\n",
    "from kabuki.utils import concat_models\n",
    "from kabuki.analyze import check_geweke\n",
    "from kabuki.analyze import gelman_rubin\n",
    "\n",
    "from patsy import dmatrix  # for generation of (regression) design matrices\n",
    "import pickle\n",
    "\n",
    "from tqdm import tqdm\n",
    "\n",
    "import warnings\n",
    "warnings.simplefilter(action='ignore', category=FutureWarning)\n",
    "warnings.filterwarnings(\"ignore\", category=DeprecationWarning)\n",
    "warnings.filterwarnings(\"ignore\", category=np.VisibleDeprecationWarning)\n",
    "\n",
    "# Data management\n",
    "pd.options.display.max_colwidth = 100\n",
    "\n",
    "az.style.use(\"arviz-white\")\n",
    "%config InlineBackend.figure_format='retina'\n",
    "\n",
    "print(\"The hddm version is\", hddm.__version__)"
   ]
  },
  {
   "cell_type": "code",
   "execution_count": 14,
   "metadata": {},
   "outputs": [],
   "source": [
    "# Set display options to show all rows and columns\n",
    "pd.set_option(\"display.max_rows\", None)\n",
    "pd.set_option(\"display.max_columns\", None)\n",
    "\n",
    "# Reset display options to their default values\n",
    "# pd.reset_option('display.max_rows')\n",
    "# pd.reset_option('display.max_columns')"
   ]
  },
  {
   "cell_type": "code",
   "execution_count": 15,
   "metadata": {},
   "outputs": [
    {
     "name": "stdout",
     "output_type": "stream",
     "text": [
      "/Users/corrado/_repositories/eating_disorders_23/src/python/PRL/01a_get_hddmrl_params\n"
     ]
    }
   ],
   "source": [
    "!pwd"
   ]
  },
  {
   "cell_type": "code",
   "execution_count": 16,
   "metadata": {
    "id": "AavilMWGnesY"
   },
   "outputs": [],
   "source": [
    "data = hddm.load_csv(\n",
    "    \"/Users/corrado/_repositories/eating_disorders_23/data/processed/prl/input_for_hddmrl/three_groups/ed_prl_data.csv\"\n",
    ")"
   ]
  },
  {
   "cell_type": "code",
   "execution_count": 17,
   "metadata": {},
   "outputs": [
    {
     "name": "stdout",
     "output_type": "stream",
     "text": [
      "There are 116 participants\n"
     ]
    }
   ],
   "source": [
    "print(\"There are %d participants\" % data[\"subj_idx\"].nunique())\n"
   ]
  },
  {
   "cell_type": "code",
   "execution_count": 18,
   "metadata": {},
   "outputs": [
    {
     "data": {
      "text/plain": [
       "HC    14400\n",
       "AN    11040\n",
       "RI     9760\n",
       "Name: diag_cat, dtype: int64"
      ]
     },
     "execution_count": 18,
     "metadata": {},
     "output_type": "execute_result"
    }
   ],
   "source": [
    "data[\"diag_cat\"].value_counts()"
   ]
  },
  {
   "cell_type": "code",
   "execution_count": 19,
   "metadata": {},
   "outputs": [
    {
     "data": {
      "text/plain": [
       "diag_cat\n",
       "AN    37\n",
       "HC    45\n",
       "RI    34\n",
       "Name: subj_code, dtype: int64"
      ]
     },
     "execution_count": 19,
     "metadata": {},
     "output_type": "execute_result"
    }
   ],
   "source": [
    "data.groupby(\"diag_cat\")[\"subj_code\"].nunique()"
   ]
  },
  {
   "cell_type": "markdown",
   "metadata": {},
   "source": [
    "Check whether all AN patients have performance above 0.5 for at least one of the two conditions (food, neutral)."
   ]
  },
  {
   "cell_type": "code",
   "execution_count": 20,
   "metadata": {},
   "outputs": [
    {
     "name": "stdout",
     "output_type": "stream",
     "text": [
      "diag_cat  stim   \n",
      "AN        food       0.531964\n",
      "          neutral    0.549816\n",
      "HC        food       0.563056\n",
      "          neutral    0.565417\n",
      "RI        food       0.559091\n",
      "          neutral    0.573884\n",
      "Name: feedback, dtype: float64\n"
     ]
    }
   ],
   "source": [
    "# Group the DataFrame and calculate the mean of 'feedback' for each combination of 'subj_code', 'stim', and 'diag_cat'\n",
    "mean_feedback = data.groupby([\"diag_cat\", \"stim\"])[\"feedback\"].mean()\n",
    "print(mean_feedback)"
   ]
  },
  {
   "cell_type": "code",
   "execution_count": 21,
   "metadata": {},
   "outputs": [
    {
     "data": {
      "text/plain": [
       "Index(['subj_idx', 'response', 'stim', 'rt', 'trial', 'split_by', 'feedback',\n",
       "       'diag_cat', 'subj_code', 'q_init'],\n",
       "      dtype='object')"
      ]
     },
     "execution_count": 21,
     "metadata": {},
     "output_type": "execute_result"
    }
   ],
   "source": [
    "data.columns"
   ]
  },
  {
   "cell_type": "code",
   "execution_count": 22,
   "metadata": {},
   "outputs": [
    {
     "name": "stdout",
     "output_type": "stream",
     "text": [
      "                   min    max      mean  median\n",
      "diag_cat stim                                  \n",
      "AN       food     0.15  2.488  0.668403  0.5390\n",
      "         neutral  0.15  2.462  0.579149  0.4745\n",
      "HC       food     0.15  2.499  0.584286  0.4545\n",
      "         neutral  0.15  2.462  0.516753  0.4070\n",
      "RI       food     0.15  2.493  0.640668  0.4985\n",
      "         neutral  0.15  2.449  0.533703  0.4160\n"
     ]
    }
   ],
   "source": [
    "# Calculate the minimum, maximum, and mean values of 'rt' for each combination of 'diag_cat' and 'stim'\n",
    "result = data.groupby([\"diag_cat\", \"stim\"])[\"rt\"].agg([\"min\", \"max\", \"mean\", \"median\"])\n",
    "print(result)"
   ]
  },
  {
   "cell_type": "markdown",
   "metadata": {},
   "source": [
    "## Model 1"
   ]
  },
  {
   "cell_type": "code",
   "execution_count": 23,
   "metadata": {},
   "outputs": [
    {
     "name": "stdout",
     "output_type": "stream",
     "text": [
      "No model attribute --> setting up standard HDDM\n",
      "Set model to ddm\n"
     ]
    },
    {
     "name": "stderr",
     "output_type": "stream",
     "text": [
      "/Users/corrado/mambaforge/envs/py37_env/lib/python3.7/site-packages/scipy/optimize/optimize.py:2215: RuntimeWarning: invalid value encountered in double_scalars\n",
      "  tmp2 = (x - v) * (fx - fw)\n"
     ]
    },
    {
     "name": "stdout",
     "output_type": "stream",
     "text": [
      " [-----------------100%-----------------] 2501 of 2500 complete in 965.2 sec"
     ]
    },
    {
     "data": {
      "text/plain": [
       "<pymc.MCMC.MCMC at 0x7f85437990d0>"
      ]
     },
     "execution_count": 23,
     "metadata": {},
     "output_type": "execute_result"
    }
   ],
   "source": [
    "m1 = hddm.HDDMrl(\n",
    "    data,\n",
    "    # bias=True,\n",
    "    # depends_on={\n",
    "    #     \"a\": [\"diag_cat\", \"stim\"],\n",
    "    #     \"v\": [\"diag_cat\", \"stim\"],\n",
    "    #     \"t\": [\"diag_cat\", \"stim\"],\n",
    "    #     \"alpha\": [\"diag_cat\", \"stim\"],\n",
    "    #     \"pos_alpha\": [\"diag_cat\", \"stim\"],\n",
    "    # },\n",
    "    # dual=True,  # separate learning rates for pos/neg feedbacks\n",
    "    p_outlier=0.05,\n",
    "    informative=True,  # informative priors on ddm params\n",
    "    include=[\"v\", \"a\", \"t\"],\n",
    ")\n",
    "\n",
    "m1.find_starting_values()\n",
    "\n",
    "m1.sample(2500, burn=500, dbname=\"models/ddm1.db\", db=\"pickle\")"
   ]
  },
  {
   "cell_type": "code",
   "execution_count": 24,
   "metadata": {},
   "outputs": [
    {
     "name": "stdout",
     "output_type": "stream",
     "text": [
      "m1 DIC: 35409.217461\n"
     ]
    }
   ],
   "source": [
    "print(\"m1 DIC: %f\" % m1.dic)"
   ]
  },
  {
   "cell_type": "markdown",
   "metadata": {},
   "source": [
    "## Model 2"
   ]
  },
  {
   "cell_type": "code",
   "execution_count": 25,
   "metadata": {},
   "outputs": [
    {
     "name": "stdout",
     "output_type": "stream",
     "text": [
      "No model attribute --> setting up standard HDDM\n",
      "Set model to ddm\n",
      " [-----------------100%-----------------] 2501 of 2500 complete in 1346.1 sec"
     ]
    },
    {
     "data": {
      "text/plain": [
       "<pymc.MCMC.MCMC at 0x7f8545dd9b10>"
      ]
     },
     "execution_count": 25,
     "metadata": {},
     "output_type": "execute_result"
    }
   ],
   "source": [
    "m2 = hddm.HDDMrl(\n",
    "    data,\n",
    "    # bias=True,\n",
    "    # depends_on={\n",
    "    #     \"a\": [\"diag_cat\", \"stim\"],\n",
    "    #     \"v\": [\"diag_cat\", \"stim\"],\n",
    "    #     \"t\": [\"diag_cat\", \"stim\"],\n",
    "    #     \"alpha\": [\"diag_cat\", \"stim\"],\n",
    "    #     \"pos_alpha\": [\"diag_cat\", \"stim\"],\n",
    "    # },\n",
    "    dual=True,  # separate learning rates for pos/neg feedbacks\n",
    "    p_outlier=0.05,\n",
    "    informative=True,  # informative priors on ddm params\n",
    "    include=[\"v\", \"a\", \"t\"],\n",
    ")\n",
    "\n",
    "m2.find_starting_values()\n",
    "\n",
    "m2.sample(2500, burn=500, dbname=\"models/ddm2.db\", db=\"pickle\")"
   ]
  },
  {
   "cell_type": "code",
   "execution_count": 26,
   "metadata": {},
   "outputs": [
    {
     "name": "stdout",
     "output_type": "stream",
     "text": [
      "m2 DIC: 34717.401648\n"
     ]
    }
   ],
   "source": [
    "print(\"m2 DIC: %f\" % m2.dic)"
   ]
  },
  {
   "cell_type": "markdown",
   "metadata": {},
   "source": [
    "## Model 3"
   ]
  },
  {
   "cell_type": "code",
   "execution_count": 27,
   "metadata": {},
   "outputs": [
    {
     "name": "stdout",
     "output_type": "stream",
     "text": [
      "No model attribute --> setting up standard HDDM\n",
      "Set model to ddm\n",
      " [-----------------100%-----------------] 2500 of 2500 complete in 1249.3 sec"
     ]
    },
    {
     "data": {
      "text/plain": [
       "<pymc.MCMC.MCMC at 0x7f85478ddad0>"
      ]
     },
     "execution_count": 27,
     "metadata": {},
     "output_type": "execute_result"
    }
   ],
   "source": [
    "m3 = hddm.HDDMrl(\n",
    "    data,\n",
    "    # bias=True,\n",
    "    depends_on={\n",
    "        #     \"a\": [\"diag_cat\", \"stim\"],\n",
    "        #     \"v\": [\"diag_cat\", \"stim\"],\n",
    "        #     \"t\": [\"diag_cat\", \"stim\"],\n",
    "        \"alpha\": [\"diag_cat\"],\n",
    "        \"pos_alpha\": [\"diag_cat\"],\n",
    "    },\n",
    "    dual=True,  # separate learning rates for pos/neg feedbacks\n",
    "    p_outlier=0.05,\n",
    "    informative=True,  # informative priors on ddm params\n",
    "    include=[\"v\", \"a\", \"t\"],\n",
    ")\n",
    "\n",
    "m3.find_starting_values()\n",
    "\n",
    "m3.sample(2500, burn=500, dbname=\"models/ddm3.db\", db=\"pickle\")"
   ]
  },
  {
   "cell_type": "code",
   "execution_count": 28,
   "metadata": {},
   "outputs": [
    {
     "name": "stdout",
     "output_type": "stream",
     "text": [
      "m3 DIC: 34806.970730\n"
     ]
    }
   ],
   "source": [
    "print(\"m3 DIC: %f\" % m3.dic)"
   ]
  },
  {
   "cell_type": "markdown",
   "metadata": {},
   "source": [
    "## Model 4"
   ]
  },
  {
   "cell_type": "code",
   "execution_count": 29,
   "metadata": {},
   "outputs": [
    {
     "name": "stdout",
     "output_type": "stream",
     "text": [
      "No model attribute --> setting up standard HDDM\n",
      "Set model to ddm\n",
      " [-----------------100%-----------------] 2501 of 2500 complete in 1760.0 sec"
     ]
    },
    {
     "data": {
      "text/plain": [
       "<pymc.MCMC.MCMC at 0x7f854b523650>"
      ]
     },
     "execution_count": 29,
     "metadata": {},
     "output_type": "execute_result"
    }
   ],
   "source": [
    "m4 = hddm.HDDMrl(\n",
    "    data,\n",
    "    # bias=True,\n",
    "    depends_on={\n",
    "        #     \"a\": [\"diag_cat\", \"stim\"],\n",
    "        #     \"v\": [\"diag_cat\", \"stim\"],\n",
    "        #     \"t\": [\"diag_cat\", \"stim\"],\n",
    "        \"alpha\": [\"diag_cat\", \"stim\"],\n",
    "        \"pos_alpha\": [\"diag_cat\", \"stim\"],\n",
    "    },\n",
    "    dual=True,  # separate learning rates for pos/neg feedbacks\n",
    "    p_outlier=0.05,\n",
    "    informative=True,  # informative priors on ddm params\n",
    "    include=[\"v\", \"a\", \"t\"],\n",
    ")\n",
    "\n",
    "m4.find_starting_values()\n",
    "\n",
    "m4.sample(2500, burn=500, dbname=\"models/ddm4.db\", db=\"pickle\")"
   ]
  },
  {
   "cell_type": "code",
   "execution_count": 30,
   "metadata": {},
   "outputs": [
    {
     "name": "stdout",
     "output_type": "stream",
     "text": [
      "m4 DIC: 33369.489305\n"
     ]
    }
   ],
   "source": [
    "print(\"m4 DIC: %f\" % m4.dic)"
   ]
  },
  {
   "cell_type": "markdown",
   "metadata": {},
   "source": [
    "## Model 5"
   ]
  },
  {
   "cell_type": "code",
   "execution_count": 31,
   "metadata": {},
   "outputs": [
    {
     "name": "stdout",
     "output_type": "stream",
     "text": [
      "No model attribute --> setting up standard HDDM\n",
      "Set model to ddm\n",
      " [-----------------100%-----------------] 2501 of 2500 complete in 1976.2 sec"
     ]
    },
    {
     "data": {
      "text/plain": [
       "<pymc.MCMC.MCMC at 0x7f854e5a3bd0>"
      ]
     },
     "execution_count": 31,
     "metadata": {},
     "output_type": "execute_result"
    }
   ],
   "source": [
    "m5 = hddm.HDDMrl(\n",
    "    data,\n",
    "    # bias=True,\n",
    "    depends_on={\n",
    "        \"a\": [\"diag_cat\", \"stim\"],\n",
    "        #     \"v\": [\"diag_cat\", \"stim\"],\n",
    "        #     \"t\": [\"diag_cat\", \"stim\"],\n",
    "        \"alpha\": [\"diag_cat\", \"stim\"],\n",
    "        \"pos_alpha\": [\"diag_cat\", \"stim\"],\n",
    "    },\n",
    "    dual=True,  # separate learning rates for pos/neg feedbacks\n",
    "    p_outlier=0.05,\n",
    "    informative=True,  # informative priors on ddm params\n",
    "    include=[\"v\", \"a\", \"t\"],\n",
    ")\n",
    "\n",
    "m5.find_starting_values()\n",
    "\n",
    "m5.sample(2500, burn=500, dbname=\"models/ddm5.db\", db=\"pickle\")"
   ]
  },
  {
   "cell_type": "code",
   "execution_count": 32,
   "metadata": {},
   "outputs": [
    {
     "name": "stdout",
     "output_type": "stream",
     "text": [
      "m5 DIC: 32077.357044\n"
     ]
    }
   ],
   "source": [
    "print(\"m5 DIC: %f\" % m5.dic)"
   ]
  },
  {
   "cell_type": "markdown",
   "metadata": {},
   "source": [
    "## Model 6"
   ]
  },
  {
   "cell_type": "code",
   "execution_count": 33,
   "metadata": {},
   "outputs": [
    {
     "name": "stdout",
     "output_type": "stream",
     "text": [
      "No model attribute --> setting up standard HDDM\n",
      "Set model to ddm\n",
      " [-----------------100%-----------------] 2501 of 2500 complete in 1853.3 sec"
     ]
    },
    {
     "data": {
      "text/plain": [
       "<pymc.MCMC.MCMC at 0x7f8531b890d0>"
      ]
     },
     "execution_count": 33,
     "metadata": {},
     "output_type": "execute_result"
    }
   ],
   "source": [
    "m6 = hddm.HDDMrl(\n",
    "    data,\n",
    "    # bias=True,\n",
    "    depends_on={\n",
    "        \"a\": [\"diag_cat\", \"stim\"],\n",
    "        \"v\": [\"diag_cat\", \"stim\"],\n",
    "        #     \"t\": [\"diag_cat\", \"stim\"],\n",
    "        \"alpha\": [\"diag_cat\", \"stim\"],\n",
    "        \"pos_alpha\": [\"diag_cat\", \"stim\"],\n",
    "    },\n",
    "    dual=True,  # separate learning rates for pos/neg feedbacks\n",
    "    p_outlier=0.05,\n",
    "    informative=True,  # informative priors on ddm params\n",
    "    include=[\"v\", \"a\", \"t\"],\n",
    ")\n",
    "\n",
    "m6.find_starting_values()\n",
    "\n",
    "m6.sample(2500, burn=500, dbname=\"models/ddm6.db\", db=\"pickle\")"
   ]
  },
  {
   "cell_type": "code",
   "execution_count": 34,
   "metadata": {},
   "outputs": [
    {
     "name": "stdout",
     "output_type": "stream",
     "text": [
      "m6 DIC: 31858.265500\n"
     ]
    }
   ],
   "source": [
    "print(\"m6 DIC: %f\" % m6.dic)"
   ]
  },
  {
   "cell_type": "markdown",
   "metadata": {},
   "source": [
    "## Model 7"
   ]
  },
  {
   "cell_type": "code",
   "execution_count": 35,
   "metadata": {},
   "outputs": [
    {
     "name": "stdout",
     "output_type": "stream",
     "text": [
      "No model attribute --> setting up standard HDDM\n",
      "Set model to ddm\n",
      " [-----------------100%-----------------] 2501 of 2500 complete in 1785.9 sec"
     ]
    },
    {
     "data": {
      "text/plain": [
       "<pymc.MCMC.MCMC at 0x7f8536a9bad0>"
      ]
     },
     "execution_count": 35,
     "metadata": {},
     "output_type": "execute_result"
    }
   ],
   "source": [
    "m7 = hddm.HDDMrl(\n",
    "    data,\n",
    "    # bias=True,\n",
    "    depends_on={\n",
    "        \"a\": [\"diag_cat\", \"stim\"],\n",
    "        \"v\": [\"diag_cat\", \"stim\"],\n",
    "        \"t\": [\"diag_cat\", \"stim\"],\n",
    "        \"alpha\": [\"diag_cat\", \"stim\"],\n",
    "        \"pos_alpha\": [\"diag_cat\", \"stim\"],\n",
    "    },\n",
    "    dual=True,  # separate learning rates for pos/neg feedbacks\n",
    "    p_outlier=0.05,\n",
    "    informative=True,  # informative priors on ddm params\n",
    "    include=[\"v\", \"a\", \"t\"],\n",
    ")\n",
    "\n",
    "m7.find_starting_values()\n",
    "\n",
    "m7.sample(2500, burn=500, dbname=\"models/ddm7.db\", db=\"pickle\")"
   ]
  },
  {
   "cell_type": "code",
   "execution_count": 36,
   "metadata": {},
   "outputs": [
    {
     "name": "stdout",
     "output_type": "stream",
     "text": [
      "m7 DIC: 30812.397933\n"
     ]
    }
   ],
   "source": [
    "print(\"m7 DIC: %f\" % m7.dic)"
   ]
  },
  {
   "cell_type": "markdown",
   "metadata": {},
   "source": [
    "## Model 8"
   ]
  },
  {
   "cell_type": "code",
   "execution_count": 37,
   "metadata": {},
   "outputs": [
    {
     "name": "stdout",
     "output_type": "stream",
     "text": [
      "No model attribute --> setting up standard HDDM\n",
      "Set model to ddm\n",
      " [-----------------100%-----------------] 2501 of 2500 complete in 2230.2 sec"
     ]
    },
    {
     "data": {
      "text/plain": [
       "<pymc.MCMC.MCMC at 0x7f853a2d46d0>"
      ]
     },
     "execution_count": 37,
     "metadata": {},
     "output_type": "execute_result"
    }
   ],
   "source": [
    "m8 = hddm.HDDMrl(\n",
    "    data,\n",
    "    bias=True,\n",
    "    depends_on={\n",
    "        \"a\": [\"diag_cat\", \"stim\"],\n",
    "        \"v\": [\"diag_cat\", \"stim\"],\n",
    "        \"t\": [\"diag_cat\", \"stim\"],\n",
    "        \"alpha\": [\"diag_cat\", \"stim\"],\n",
    "        \"pos_alpha\": [\"diag_cat\", \"stim\"],\n",
    "    },\n",
    "    dual=True,  # separate learning rates for pos/neg feedbacks\n",
    "    p_outlier=0.05,\n",
    "    informative=True,  # informative priors on ddm params\n",
    "    include=[\"v\", \"a\", \"t\"],\n",
    ")\n",
    "\n",
    "m8.find_starting_values()\n",
    "\n",
    "m8.sample(2500, burn=500, dbname=\"models/ddm8.db\", db=\"pickle\")"
   ]
  },
  {
   "cell_type": "code",
   "execution_count": 38,
   "metadata": {},
   "outputs": [
    {
     "name": "stdout",
     "output_type": "stream",
     "text": [
      "m8 DIC: 30826.391885\n"
     ]
    }
   ],
   "source": [
    "print(\"m8 DIC: %f\" % m8.dic)"
   ]
  },
  {
   "cell_type": "code",
   "execution_count": null,
   "metadata": {},
   "outputs": [],
   "source": []
  }
 ],
 "metadata": {
  "colab": {
   "collapsed_sections": [],
   "name": "hddm_food_neutral.ipynb",
   "provenance": []
  },
  "kernelspec": {
   "display_name": "hddm_env",
   "language": "python",
   "name": "python3"
  },
  "language_info": {
   "codemirror_mode": {
    "name": "ipython",
    "version": 3
   },
   "file_extension": ".py",
   "mimetype": "text/x-python",
   "name": "python",
   "nbconvert_exporter": "python",
   "pygments_lexer": "ipython3",
   "version": "3.7.16"
  },
  "vscode": {
   "interpreter": {
    "hash": "a017ab2123bc73d78437770a9ac1e3026a450085e39c9a793edee731ea75aa98"
   }
  }
 },
 "nbformat": 4,
 "nbformat_minor": 0
}
